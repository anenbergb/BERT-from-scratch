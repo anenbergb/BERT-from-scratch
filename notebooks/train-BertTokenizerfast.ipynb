{
 "cells": [
  {
   "cell_type": "raw",
   "id": "de8167bc",
   "metadata": {},
   "source": [
    "References\n",
    "* https://huggingface.co/learn/nlp-course/chapter6/2?fw=pt\n",
    "* https://huggingface.co/learn/nlp-course/chapter6/3?fw=pt"
   ]
  },
  {
   "cell_type": "code",
   "execution_count": 3,
   "id": "cc07b625",
   "metadata": {},
   "outputs": [],
   "source": [
    "from tqdm import tqdm\n",
    "import torch\n",
    "from datasets import concatenate_datasets, load_dataset\n",
    "from transformers import BertTokenizerFast"
   ]
  },
  {
   "cell_type": "code",
   "execution_count": 4,
   "id": "3bfcb1aa",
   "metadata": {},
   "outputs": [
    {
     "data": {
      "application/vnd.jupyter.widget-view+json": {
       "model_id": "390b9decd79442eb9a390ee1150fbfed",
       "version_major": 2,
       "version_minor": 0
      },
      "text/plain": [
       "Loading dataset shards:   0%|          | 0/41 [00:00<?, ?it/s]"
      ]
     },
     "metadata": {},
     "output_type": "display_data"
    }
   ],
   "source": [
    "bookcorpus = load_dataset(\"bookcorpus\", split=\"train\")\n",
    "wiki = load_dataset(\"wikipedia\", \"20220301.en\", split=\"train\")\n",
    "wiki = wiki.remove_columns([col for col in wiki.column_names if col != \"text\"])  # only keep the 'text' column\n",
    " \n",
    "assert bookcorpus.features.type == wiki.features.type\n",
    "dataset = concatenate_datasets([bookcorpus, wiki])"
   ]
  },
  {
   "cell_type": "code",
   "execution_count": 7,
   "id": "8ab54181",
   "metadata": {},
   "outputs": [],
   "source": [
    "def batch_iterator(dataset, batch_size=10000):\n",
    "    for i in tqdm(range(0, len(dataset), batch_size)):\n",
    "        yield dataset[i : i + batch_size][\"text\"]"
   ]
  },
  {
   "cell_type": "code",
   "execution_count": 8,
   "id": "74a94b9c",
   "metadata": {},
   "outputs": [],
   "source": [
    "tokenizer = BertTokenizerFast.from_pretrained(\"bert-base-uncased\")"
   ]
  },
  {
   "cell_type": "code",
   "execution_count": 14,
   "id": "55b02110",
   "metadata": {},
   "outputs": [
    {
     "name": "stderr",
     "output_type": "stream",
     "text": [
      "100%|███████████████████████████████████████████████████████████████████████████████████████████████████████████████████████| 8047/8047 [07:56<00:00, 16.89it/s]\n"
     ]
    },
    {
     "name": "stdout",
     "output_type": "stream",
     "text": [
      "\n",
      "\n",
      "\n"
     ]
    }
   ],
   "source": [
    "tokenizer = tokenizer.train_new_from_iterator(text_iterator=batch_iterator(dataset), vocab_size=30522)"
   ]
  },
  {
   "cell_type": "code",
   "execution_count": 27,
   "id": "f2671626",
   "metadata": {},
   "outputs": [
    {
     "data": {
      "text/plain": [
       "('../tokenizer/tokenizer_config.json',\n",
       " '../tokenizer/special_tokens_map.json',\n",
       " '../tokenizer/vocab.txt',\n",
       " '../tokenizer/added_tokens.json',\n",
       " '../tokenizer/tokenizer.json')"
      ]
     },
     "execution_count": 27,
     "metadata": {},
     "output_type": "execute_result"
    }
   ],
   "source": [
    "tokenizer.save_pretrained(\"../tokenizer\")"
   ]
  },
  {
   "cell_type": "code",
   "execution_count": 37,
   "id": "7545814e",
   "metadata": {},
   "outputs": [
    {
     "name": "stdout",
     "output_type": "stream",
     "text": [
      "aidan appeared then , carrying all the drinks on a tray .\n",
      "tokens: ['aid', '##an', 'appeared', 'then', ',', 'carry', '##ing', 'all', 'the', 'drink', '##s', 'on', 'a', 'tra', '##y', '.']\n"
     ]
    }
   ],
   "source": [
    "text = dataset[1002][\"text\"]\n",
    "tokens = tokenizer.tokenize(text)\n",
    "print(f\"{text}\\ntokens: {tokens}\")"
   ]
  },
  {
   "cell_type": "code",
   "execution_count": 38,
   "id": "e40e4fc8",
   "metadata": {},
   "outputs": [],
   "source": [
    "encoding = tokenizer(text)"
   ]
  },
  {
   "cell_type": "code",
   "execution_count": 39,
   "id": "90546f54",
   "metadata": {},
   "outputs": [
    {
     "data": {
      "text/plain": [
       "{'input_ids': [2, 29859, 25035, 27159, 25450, 16, 28625, 25047, 25236, 25031, 29110, 19877, 25072, 43, 30460, 19871, 18, 3], 'token_type_ids': [0, 0, 0, 0, 0, 0, 0, 0, 0, 0, 0, 0, 0, 0, 0, 0, 0, 0], 'attention_mask': [1, 1, 1, 1, 1, 1, 1, 1, 1, 1, 1, 1, 1, 1, 1, 1, 1, 1]}"
      ]
     },
     "execution_count": 39,
     "metadata": {},
     "output_type": "execute_result"
    }
   ],
   "source": [
    "encoding"
   ]
  },
  {
   "cell_type": "code",
   "execution_count": 40,
   "id": "ccf3864a",
   "metadata": {},
   "outputs": [
    {
     "data": {
      "text/plain": [
       "['[CLS]',\n",
       " 'aid',\n",
       " '##an',\n",
       " 'appeared',\n",
       " 'then',\n",
       " ',',\n",
       " 'carry',\n",
       " '##ing',\n",
       " 'all',\n",
       " 'the',\n",
       " 'drink',\n",
       " '##s',\n",
       " 'on',\n",
       " 'a',\n",
       " 'tra',\n",
       " '##y',\n",
       " '.',\n",
       " '[SEP]']"
      ]
     },
     "execution_count": 40,
     "metadata": {},
     "output_type": "execute_result"
    }
   ],
   "source": [
    "encoding.tokens()"
   ]
  },
  {
   "cell_type": "code",
   "execution_count": 41,
   "id": "3f28c0d4",
   "metadata": {},
   "outputs": [
    {
     "data": {
      "text/plain": [
       "[None, 0, 0, 1, 2, 3, 4, 4, 5, 6, 7, 7, 8, 9, 10, 10, 11, None]"
      ]
     },
     "execution_count": 41,
     "metadata": {},
     "output_type": "execute_result"
    }
   ],
   "source": [
    "encoding.word_ids()"
   ]
  },
  {
   "cell_type": "code",
   "execution_count": 47,
   "id": "cd902f18",
   "metadata": {},
   "outputs": [
    {
     "data": {
      "text/plain": [
       "'carrying'"
      ]
     },
     "execution_count": 47,
     "metadata": {},
     "output_type": "execute_result"
    }
   ],
   "source": [
    "start, end = encoding.word_to_chars(4)\n",
    "text[start:end]"
   ]
  },
  {
   "cell_type": "code",
   "execution_count": 43,
   "id": "e84200d4",
   "metadata": {},
   "outputs": [
    {
     "data": {
      "text/plain": [
       "'aidan'"
      ]
     },
     "execution_count": 43,
     "metadata": {},
     "output_type": "execute_result"
    }
   ],
   "source": [
    "text[0:5]"
   ]
  },
  {
   "cell_type": "code",
   "execution_count": null,
   "id": "26b5bce2",
   "metadata": {},
   "outputs": [],
   "source": []
  }
 ],
 "metadata": {
  "kernelspec": {
   "display_name": "Python [conda env:pytorch-from-scratch]",
   "language": "python",
   "name": "conda-env-pytorch-from-scratch-py"
  },
  "language_info": {
   "codemirror_mode": {
    "name": "ipython",
    "version": 3
   },
   "file_extension": ".py",
   "mimetype": "text/x-python",
   "name": "python",
   "nbconvert_exporter": "python",
   "pygments_lexer": "ipython3",
   "version": "3.12.8"
  }
 },
 "nbformat": 4,
 "nbformat_minor": 5
}
