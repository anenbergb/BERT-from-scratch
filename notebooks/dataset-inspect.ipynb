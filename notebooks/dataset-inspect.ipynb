{
 "cells": [
  {
   "cell_type": "code",
   "execution_count": 1,
   "id": "e95533d6",
   "metadata": {},
   "outputs": [],
   "source": [
    "from datasets import concatenate_datasets, load_dataset\n",
    "import re\n",
    "from tqdm import tqdm"
   ]
  },
  {
   "cell_type": "code",
   "execution_count": 14,
   "id": "05de4afe",
   "metadata": {},
   "outputs": [
    {
     "data": {
      "application/vnd.jupyter.widget-view+json": {
       "model_id": "89bb25c35fd349358efbba883bf82309",
       "version_major": 2,
       "version_minor": 0
      },
      "text/plain": [
       "Loading dataset shards:   0%|          | 0/41 [00:00<?, ?it/s]"
      ]
     },
     "metadata": {},
     "output_type": "display_data"
    }
   ],
   "source": [
    "bookcorpus = load_dataset(\"bookcorpus\", split=\"train\")\n",
    "wiki = load_dataset(\"wikipedia\", \"20220301.en\", split=\"train\")\n",
    "wiki = wiki.remove_columns([col for col in wiki.column_names if col != \"text\"])  # only keep the 'text' column\n",
    " \n",
    "assert bookcorpus.features.type == wiki.features.type\n",
    "datasets = concatenate_datasets([bookcorpus, wiki])"
   ]
  },
  {
   "cell_type": "code",
   "execution_count": 15,
   "id": "cf64da43",
   "metadata": {},
   "outputs": [],
   "source": [
    "def count_words(dataset):\n",
    "    num_words = 0\n",
    "    for data in tqdm(dataset):\n",
    "        # \\w+ matches one or more word characters (same as [a-zA-Z0-9_]+).\n",
    "        num_words += len(re.findall(r'\\w+', data[\"text\"]))\n",
    "    return num_words\n",
    "\n",
    "def format_number(number):\n",
    "    if abs(number) >= 1_000_000_000:\n",
    "        return f\"{number / 1_000_000_000:.2f}B\"\n",
    "    elif abs(number) >= 1_000_000:\n",
    "        return f\"{number / 1_000_000:.2f}M\"\n",
    "    else:\n",
    "        return str(number)"
   ]
  },
  {
   "cell_type": "code",
   "execution_count": 11,
   "id": "db14a33c",
   "metadata": {},
   "outputs": [],
   "source": [
    "wiki_num_words = count_words(wiki)"
   ]
  },
  {
   "cell_type": "code",
   "execution_count": 17,
   "id": "b6f90107",
   "metadata": {},
   "outputs": [
    {
     "name": "stderr",
     "output_type": "stream",
     "text": [
      "100%|███████████████████████████████████████████████████████████████████████████████████████████████████████████| 74004228/74004228 [08:22<00:00, 147396.76it/s]"
     ]
    },
    {
     "name": "stdout",
     "output_type": "stream",
     "text": [
      "BooksCorpus # words: 840.01M\n",
      "Wikipedia (English) # words: 3.17B\n",
      "Total # words: 4.01B\n"
     ]
    },
    {
     "name": "stderr",
     "output_type": "stream",
     "text": [
      "\n"
     ]
    }
   ],
   "source": [
    "bookcorpus_num_words = count_words(bookcorpus)\n",
    "total_num_words = wiki_num_words + bookcorpus_num_words\n",
    "print(f\"BooksCorpus # words: {format_number(bookcorpus_num_words)}\")\n",
    "print(f\"Wikipedia (English) # words: {format_number(wiki_num_words)}\")\n",
    "print(f\"Total # words: {format_number(total_num_words)}\")"
   ]
  },
  {
   "cell_type": "code",
   "execution_count": 16,
   "id": "1b00ea64",
   "metadata": {},
   "outputs": [
    {
     "data": {
      "text/plain": [
       "'3.17B'"
      ]
     },
     "execution_count": 16,
     "metadata": {},
     "output_type": "execute_result"
    }
   ],
   "source": [
    "format_number(wiki_num_words)"
   ]
  }
 ],
 "metadata": {
  "kernelspec": {
   "display_name": "Python [conda env:pytorch-from-scratch]",
   "language": "python",
   "name": "conda-env-pytorch-from-scratch-py"
  },
  "language_info": {
   "codemirror_mode": {
    "name": "ipython",
    "version": 3
   },
   "file_extension": ".py",
   "mimetype": "text/x-python",
   "name": "python",
   "nbconvert_exporter": "python",
   "pygments_lexer": "ipython3",
   "version": "3.12.8"
  }
 },
 "nbformat": 4,
 "nbformat_minor": 5
}
