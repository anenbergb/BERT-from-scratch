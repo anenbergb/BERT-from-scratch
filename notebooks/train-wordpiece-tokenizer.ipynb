{
 "cells": [
  {
   "cell_type": "code",
   "execution_count": 1,
   "id": "844fdf79",
   "metadata": {},
   "outputs": [],
   "source": [
    "from tokenizers import (\n",
    "    normalizers,\n",
    "    pre_tokenizers\n",
    ")\n",
    "from collections import defaultdict"
   ]
  },
  {
   "cell_type": "code",
   "execution_count": 2,
   "id": "7120e58e",
   "metadata": {},
   "outputs": [],
   "source": [
    "corpus = [\n",
    "    \"This is the Hugging Face Course.\",\n",
    "    \"This chapter is about tokenization.\",\n",
    "    \"This section shows several tokenizer algorithms.\",\n",
    "    \"Hopefully, you will be able to understand how they are trained and generate tokens.\",\n",
    "]"
   ]
  },
  {
   "cell_type": "code",
   "execution_count": 3,
   "id": "3f173b23",
   "metadata": {},
   "outputs": [],
   "source": [
    "normalizer = normalizers.BertNormalizer(\n",
    "    clean_text = True, # remove all control characters and repleace repeating strings with a single one\n",
    "    handle_chinese_chars=True, # place spaces around Chinese characters\n",
    "    strip_accents=None, # whether to strip accents\n",
    "    lowercase=True\n",
    ")\n",
    "pre_tokenizer = pre_tokenizers.BertPreTokenizer()"
   ]
  },
  {
   "cell_type": "code",
   "execution_count": 4,
   "id": "12432bee",
   "metadata": {
    "scrolled": true
   },
   "outputs": [],
   "source": [
    "def initialize(corpus_words):\n",
    "    vocabulary = {\"[PAD]\", \"[UNK]\", \"[CLS]\", \"[SEP]\", \"[MASK]\"}\n",
    "    char_frequency = defaultdict(int)\n",
    "\n",
    "    corpus_tokens = []\n",
    "    for word in set(corpus_words):\n",
    "        word_tokens = []\n",
    "        for i,c in enumerate(word):\n",
    "            token = c if i == 0 else f\"##{c}\"\n",
    "            vocabulary.add(token)\n",
    "            char_frequency[token] += 1\n",
    "            word_tokens.append(token)\n",
    "        corpus_tokens.append(word_tokens)\n",
    "    \n",
    "    pair_frequency = defaultdict(int)\n",
    "    for word_tokens in corpus_tokens:\n",
    "        for pair in zip(word_tokens, word_tokens[1:]):\n",
    "            pair_frequency[pair] += 1\n",
    "\n",
    "    return vocabulary, char_frequency, pair_frequency, corpus_tokens"
   ]
  },
  {
   "cell_type": "code",
   "execution_count": 7,
   "id": "9ca56899",
   "metadata": {},
   "outputs": [],
   "source": [
    "def pair_to_token(pair):\n",
    "    return f\"{pair[0]}{pair[1].lstrip(\"#\")}\"\n",
    "\n",
    "\n",
    "def update(new_pair, corpus_tokens):\n",
    "    char_frequency = defaultdict(int)\n",
    "    pair_frequency = defaultdict(int)\n",
    "    new_corpus_tokens = []\n",
    "    for word_tokens in corpus_tokens:\n",
    "        tokens = []\n",
    "        idx = 0\n",
    "        while idx < len(word_tokens):\n",
    "            if idx < len(word_tokens) - 1 and new_pair == (word_tokens[idx], word_tokens[idx+1]):\n",
    "                tokens.append(pair_to_token(new_pair))\n",
    "                idx += 1\n",
    "            else:\n",
    "                tokens.append(word_tokens[idx])\n",
    "            idx += 1\n",
    "\n",
    "        for token in tokens:\n",
    "            char_frequency[token] += 1\n",
    "        for pair in zip(tokens, tokens[1:]):\n",
    "            pair_frequency[pair] += 1\n",
    "        new_corpus_tokens.append(tokens)\n",
    "    return char_frequency, pair_frequency, new_corpus_tokens\n",
    "\n",
    "\n",
    "def train_vocabulary(corpus, vocab_size = 70):\n",
    "    corpus_words = []\n",
    "    for sentence in corpus:\n",
    "        tuples = pre_tokenizer.pre_tokenize_str(normalizer.normalize_str(sentence))\n",
    "        corpus_words.extend([word for word, offset in tuples])\n",
    "    \n",
    "    vocabulary, char_frequency, pair_frequency, corpus_tokens = initialize(corpus_words)\n",
    "    while len(vocabulary) < vocab_size:\n",
    "        pair_scores = {pair: pf / (char_frequency[pair[0]] * char_frequency[pair[1]]) for pair,pf in pair_frequency.items()}\n",
    "        max_pair = max(pair_frequency.keys(), key=pair_scores.get)\n",
    "        vocabulary.add(pair_to_token(max_pair))\n",
    "        char_frequency, pair_frequency, corpus_tokens = update(max_pair, corpus_tokens)\n",
    "    \n",
    "    return vocabulary"
   ]
  },
  {
   "cell_type": "code",
   "execution_count": 8,
   "id": "cfb72822",
   "metadata": {},
   "outputs": [],
   "source": [
    "vocabulary = train_vocabulary(corpus, vocab_size=70)"
   ]
  },
  {
   "cell_type": "code",
   "execution_count": 11,
   "id": "5e6af069",
   "metadata": {},
   "outputs": [
    {
     "data": {
      "text/plain": [
       "{'##a',\n",
       " '##al',\n",
       " '##b',\n",
       " '##c',\n",
       " '##ct',\n",
       " '##cti',\n",
       " '##d',\n",
       " '##e',\n",
       " '##f',\n",
       " '##fu',\n",
       " '##ful',\n",
       " '##full',\n",
       " '##fully',\n",
       " '##g',\n",
       " '##gg',\n",
       " '##h',\n",
       " '##hm',\n",
       " '##i',\n",
       " '##ithms',\n",
       " '##iz',\n",
       " '##k',\n",
       " '##l',\n",
       " '##m',\n",
       " '##n',\n",
       " '##o',\n",
       " '##p',\n",
       " '##r',\n",
       " '##ral',\n",
       " '##rithms',\n",
       " '##s',\n",
       " '##t',\n",
       " '##thm',\n",
       " '##thms',\n",
       " '##u',\n",
       " '##ugg',\n",
       " '##v',\n",
       " '##w',\n",
       " '##y',\n",
       " '##z',\n",
       " ',',\n",
       " '.',\n",
       " '[CLS]',\n",
       " '[MASK]',\n",
       " '[PAD]',\n",
       " '[SEP]',\n",
       " '[UNK]',\n",
       " 'a',\n",
       " 'ab',\n",
       " 'abl',\n",
       " 'al',\n",
       " 'alg',\n",
       " 'b',\n",
       " 'c',\n",
       " 'f',\n",
       " 'fa',\n",
       " 'fac',\n",
       " 'g',\n",
       " 'h',\n",
       " 'hugg',\n",
       " 'huggi',\n",
       " 'i',\n",
       " 'is',\n",
       " 's',\n",
       " 't',\n",
       " 'u',\n",
       " 'w',\n",
       " 'wi',\n",
       " 'wil',\n",
       " 'will',\n",
       " 'y'}"
      ]
     },
     "execution_count": 11,
     "metadata": {},
     "output_type": "execute_result"
    }
   ],
   "source": [
    "vocabulary"
   ]
  },
  {
   "cell_type": "code",
   "execution_count": 15,
   "id": "b7b7b142",
   "metadata": {},
   "outputs": [],
   "source": [
    "def encode_word(word, vocab):\n",
    "    tokens = []\n",
    "    while len(word) > 0:\n",
    "        i = len(word)\n",
    "        while i > 0 and word[:i] not in vocab:\n",
    "            i -= 1\n",
    "        if i == 0:\n",
    "            return [\"[UNK]\"]\n",
    "        tokens.append(word[:i])\n",
    "        word = word[i:]\n",
    "        if len(word) > 0:\n",
    "            word = f\"##{word}\"\n",
    "    return tokens\n",
    "\n",
    "def tokenize(text, vocab):\n",
    "    pre_tokenize_result = pre_tokenizer.pre_tokenize_str(normalizer.normalize_str(text))\n",
    "    pre_tokenized_text = [word for word, offset in pre_tokenize_result]\n",
    "    encoded_words = [encode_word(word, vocab) for word in pre_tokenized_text]\n",
    "    return sum(encoded_words, [])"
   ]
  },
  {
   "cell_type": "code",
   "execution_count": 16,
   "id": "b4aed409",
   "metadata": {},
   "outputs": [
    {
     "data": {
      "text/plain": [
       "['t',\n",
       " '##h',\n",
       " '##i',\n",
       " '##s',\n",
       " 'is',\n",
       " 't',\n",
       " '##h',\n",
       " '##e',\n",
       " 'huggi',\n",
       " '##n',\n",
       " '##g',\n",
       " 'fac',\n",
       " '##e',\n",
       " 'c',\n",
       " '##o',\n",
       " '##u',\n",
       " '##r',\n",
       " '##s',\n",
       " '##e',\n",
       " '[UNK]']"
      ]
     },
     "execution_count": 16,
     "metadata": {},
     "output_type": "execute_result"
    }
   ],
   "source": [
    "tokenize(\"This is the Hugging Face course!\", vocabulary)"
   ]
  }
 ],
 "metadata": {
  "kernelspec": {
   "display_name": "Python [conda env:pytorch-from-scratch]",
   "language": "python",
   "name": "conda-env-pytorch-from-scratch-py"
  },
  "language_info": {
   "codemirror_mode": {
    "name": "ipython",
    "version": 3
   },
   "file_extension": ".py",
   "mimetype": "text/x-python",
   "name": "python",
   "nbconvert_exporter": "python",
   "pygments_lexer": "ipython3",
   "version": "3.12.8"
  }
 },
 "nbformat": 4,
 "nbformat_minor": 5
}
